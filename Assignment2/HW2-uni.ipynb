{
 "cells": [
  {
   "cell_type": "code",
   "execution_count": 2,
   "metadata": {
    "collapsed": true
   },
   "outputs": [],
   "source": [
    "import tensorflow as tf\n",
    "import numpy as np\n",
    "import pandas as pd"
   ]
  },
  {
   "cell_type": "code",
   "execution_count": 3,
   "metadata": {
    "collapsed": true
   },
   "outputs": [],
   "source": [
    "from __future__ import absolute_import\n",
    "from __future__ import division\n",
    "from __future__ import print_function\n",
    "\n",
    "# Imports\n",
    "import numpy as np\n",
    "import tensorflow as tf\n",
    "\n",
    "tf.logging.set_verbosity(tf.logging.INFO)\n",
    "\n",
    "# Our application logic will be added here"
   ]
  },
  {
   "cell_type": "code",
   "execution_count": 4,
   "metadata": {
    "collapsed": true
   },
   "outputs": [],
   "source": [
    "train, test = tf.keras.datasets.cifar10.load_data()"
   ]
  },
  {
   "cell_type": "code",
   "execution_count": 5,
   "metadata": {
    "collapsed": true
   },
   "outputs": [],
   "source": [
    "x_train = train[0]\n",
    "y_train = train[1]\n",
    "x_test = test[0]\n",
    "y_test = test[1]"
   ]
  },
  {
   "cell_type": "code",
   "execution_count": 12,
   "metadata": {
    "collapsed": true
   },
   "outputs": [],
   "source": [
    "def cnn_model_fn(features, labels, mode):\n",
    "    \"\"\"Model function for CNN.\"\"\"\n",
    "    regularizer = tf.contrib.layers.l2_regularizer(scale=0.1)\n",
    "    \n",
    "    # Input Layer\n",
    "    input_layer = tf.reshape(features[\"x\"], [-1, 32, 32, 3])\n",
    "#     mean, variance = tf.nn.moments(input_layer, axes=[0,1,2], shift=None, name=None, keep_dims=False)\n",
    "#     input_layer = tf.nn.batch_normalization(input_layer, mean, variance, variance_epsilon=1e-4, offset=0, scale=1.0)\n",
    "\n",
    "    # Convolutional Layer #1\n",
    "    conv1 = tf.layers.conv2d(\n",
    "      inputs=input_layer,\n",
    "      filters=32,\n",
    "      kernel_size=[5, 5],\n",
    "      padding=\"same\",\n",
    "      activation=tf.nn.relu,\n",
    "      kernel_regularizer=regularizer)\n",
    "    \n",
    "    # Pooling Layer #1\n",
    "    pool1 = tf.layers.max_pooling2d(inputs=conv1, pool_size=[2, 2], strides=2)\n",
    "    \n",
    "    # Convolutional Layer #2 and Pooling Layer #2\n",
    "    conv2 = tf.layers.conv2d(\n",
    "      inputs=pool1,\n",
    "      filters=64,\n",
    "      kernel_size=[5, 5],\n",
    "      padding=\"same\",\n",
    "      activation=tf.nn.relu,\n",
    "      kernel_regularizer=regularizer)\n",
    "        \n",
    "    pool2 = tf.layers.max_pooling2d(inputs=conv2, pool_size=[2, 2], strides=2)\n",
    "\n",
    "    # Dense Layer\n",
    "    pool2_flat = tf.reshape(pool2, [-1, 8 * 8 * 64])\n",
    "    dense = tf.layers.dense(inputs=pool2_flat, units=1024, activation=tf.nn.relu, kernel_regularizer=regularizer)\n",
    "    dropout = tf.layers.dropout(\n",
    "      inputs=dense, rate=0.4, training=mode == tf.estimator.ModeKeys.TRAIN)\n",
    "\n",
    "    # Logits Layer\n",
    "    logits = tf.layers.dense(inputs=dropout, units=10, kernel_regularizer=regularizer)\n",
    "\n",
    "    predictions = {\n",
    "      # Generate predictions (for PREDICT and EVAL mode)\n",
    "      \"classes\": tf.argmax(input=logits, axis=1),\n",
    "      # Add `softmax_tensor` to the graph. It is used for PREDICT and by the\n",
    "      # `logging_hook`.\n",
    "      \"probabilities\": tf.nn.softmax(logits, name=\"softmax_tensor\")\n",
    "    }\n",
    "\n",
    "    if mode == tf.estimator.ModeKeys.PREDICT:\n",
    "        return tf.estimator.EstimatorSpec(mode=mode, predictions=predictions)\n",
    "\n",
    "    # Calculate Loss (for both TRAIN and EVAL modes)\n",
    "    loss = tf.losses.sparse_softmax_cross_entropy(labels=labels, logits=logits)\n",
    "    loss = loss + tf.reduce_sum(tf.losses.get_regularization_losses())\n",
    "    \n",
    "#     print(tf.reduce_sum(tf.losses.get_regularization_losses()))\n",
    "\n",
    "    # Configure the Training Op (for TRAIN mode)\n",
    "    if mode == tf.estimator.ModeKeys.TRAIN:\n",
    "        optimizer = tf.train.GradientDescentOptimizer(learning_rate=0.01)\n",
    "        train_op = optimizer.minimize(\n",
    "            loss=loss,\n",
    "            global_step=tf.train.get_global_step())\n",
    "        return tf.estimator.EstimatorSpec(mode=mode, loss=loss, train_op=train_op)\n",
    "\n",
    "    # Add evaluation metrics (for EVAL mode)\n",
    "    eval_metric_ops = {\n",
    "      \"accuracy\": tf.metrics.accuracy(\n",
    "          labels=labels, predictions=predictions[\"classes\"])}\n",
    "    return tf.estimator.EstimatorSpec(\n",
    "      mode=mode, loss=loss, eval_metric_ops=eval_metric_ops)"
   ]
  },
  {
   "cell_type": "code",
   "execution_count": 13,
   "metadata": {},
   "outputs": [
    {
     "name": "stdout",
     "output_type": "stream",
     "text": [
      "INFO:tensorflow:Using default config.\n",
      "INFO:tensorflow:Using config: {'_model_dir': './cifar10_convnet_model', '_tf_random_seed': None, '_save_summary_steps': 100, '_save_checkpoints_steps': None, '_save_checkpoints_secs': 600, '_session_config': None, '_keep_checkpoint_max': 5, '_keep_checkpoint_every_n_hours': 10000, '_log_step_count_steps': 100, '_service': None, '_cluster_spec': <tensorflow.python.training.server_lib.ClusterSpec object at 0x0000000F408CC9E8>, '_task_type': 'worker', '_task_id': 0, '_master': '', '_is_chief': True, '_num_ps_replicas': 0, '_num_worker_replicas': 1}\n"
     ]
    }
   ],
   "source": [
    "# Create the Estimator\n",
    "cifar10_classifier = tf.estimator.Estimator(\n",
    "    model_fn=cnn_model_fn, model_dir=\"./cifar10_convnet_model\")"
   ]
  },
  {
   "cell_type": "code",
   "execution_count": 14,
   "metadata": {
    "collapsed": true
   },
   "outputs": [],
   "source": [
    "# Set up logging for predictions\n",
    "tensors_to_log = {\"probabilities\": \"softmax_tensor\"}\n",
    "logging_hook = tf.train.LoggingTensorHook(\n",
    "  tensors=tensors_to_log, every_n_iter=50)"
   ]
  },
  {
   "cell_type": "code",
   "execution_count": 15,
   "metadata": {},
   "outputs": [
    {
     "name": "stdout",
     "output_type": "stream",
     "text": [
      "INFO:tensorflow:Create CheckpointSaverHook.\n",
      "INFO:tensorflow:Restoring parameters from ./cifar10_convnet_model\\model.ckpt-34702\n",
      "INFO:tensorflow:Saving checkpoints for 34703 into ./cifar10_convnet_model\\model.ckpt.\n",
      "INFO:tensorflow:loss = 43.3844, step = 34703\n",
      "INFO:tensorflow:global_step/sec: 2.32214\n",
      "INFO:tensorflow:loss = 37.8505, step = 34803 (43.064 sec)\n",
      "INFO:tensorflow:global_step/sec: 2.21446\n",
      "INFO:tensorflow:loss = 31.2086, step = 34903 (45.158 sec)\n",
      "INFO:tensorflow:global_step/sec: 2.20344\n",
      "INFO:tensorflow:loss = 26.0542, step = 35003 (45.384 sec)\n",
      "INFO:tensorflow:global_step/sec: 2.09392\n",
      "INFO:tensorflow:loss = 21.3044, step = 35103 (47.757 sec)\n",
      "INFO:tensorflow:global_step/sec: 1.87216\n",
      "INFO:tensorflow:loss = 17.9161, step = 35203 (53.417 sec)\n",
      "INFO:tensorflow:global_step/sec: 1.96455\n",
      "INFO:tensorflow:loss = 14.918, step = 35303 (50.915 sec)\n",
      "INFO:tensorflow:global_step/sec: 1.9844\n",
      "INFO:tensorflow:loss = 12.3148, step = 35403 (50.377 sec)\n",
      "INFO:tensorflow:global_step/sec: 2.00289\n",
      "INFO:tensorflow:loss = 10.34, step = 35503 (49.928 sec)\n",
      "INFO:tensorflow:global_step/sec: 2.0428\n",
      "INFO:tensorflow:loss = 8.74299, step = 35603 (48.968 sec)\n",
      "INFO:tensorflow:Saving checkpoints for 35702 into ./cifar10_convnet_model\\model.ckpt.\n",
      "INFO:tensorflow:Loss for final step: 7.58865.\n"
     ]
    },
    {
     "data": {
      "text/plain": [
       "<tensorflow.python.estimator.estimator.Estimator at 0xf408ccf98>"
      ]
     },
     "execution_count": 15,
     "metadata": {},
     "output_type": "execute_result"
    }
   ],
   "source": [
    "# Train the model\n",
    "train_input_fn = tf.estimator.inputs.numpy_input_fn(\n",
    "    x={\"x\": x_train.astype(np.float32)},\n",
    "    y=y_train.astype(np.int32),\n",
    "    batch_size=100,\n",
    "    num_epochs=None,\n",
    "    shuffle=True)\n",
    "cifar10_classifier.train(\n",
    "    input_fn=train_input_fn,\n",
    "    steps=1000,\n",
    "    hooks=[])"
   ]
  },
  {
   "cell_type": "code",
   "execution_count": 16,
   "metadata": {},
   "outputs": [
    {
     "name": "stdout",
     "output_type": "stream",
     "text": [
      "INFO:tensorflow:Starting evaluation at 2018-02-25-23:16:22\n",
      "INFO:tensorflow:Restoring parameters from ./cifar10_convnet_model\\model.ckpt-35702\n",
      "INFO:tensorflow:Finished evaluation at 2018-02-25-23:16:39\n",
      "INFO:tensorflow:Saving dict for global step 35702: accuracy = 0.4862, global_step = 35702, loss = 7.55584\n",
      "{'accuracy': 0.4862, 'loss': 7.555841, 'global_step': 35702}\n"
     ]
    }
   ],
   "source": [
    "# Evaluate the model and print results\n",
    "eval_input_fn = tf.estimator.inputs.numpy_input_fn(\n",
    "    x={\"x\": x_test.astype(np.float32)},\n",
    "    y=y_test.astype(np.int32),\n",
    "    num_epochs=1,\n",
    "    shuffle=False)\n",
    "eval_results = cifar10_classifier.evaluate(input_fn=eval_input_fn)\n",
    "print(eval_results)"
   ]
  },
  {
   "cell_type": "code",
   "execution_count": 95,
   "metadata": {
    "collapsed": true
   },
   "outputs": [],
   "source": [
    "# Evaluate the model and print results\n",
    "pred_input_fn = tf.estimator.inputs.numpy_input_fn(\n",
    "    x={\"x\": x_test.astype(np.float32)},\n",
    "    num_epochs=1,\n",
    "    shuffle=False)\n",
    "pred_results = cifar10_classifier.predict(input_fn=pred_input_fn)\n",
    "# pred_probs = cifar10_classifier.predict(input_fn=pred_input_fn, predict_keys=\"probabilities\")"
   ]
  },
  {
   "cell_type": "code",
   "execution_count": 96,
   "metadata": {},
   "outputs": [
    {
     "name": "stdout",
     "output_type": "stream",
     "text": [
      "INFO:tensorflow:Restoring parameters from ./cifar10_convnet_model - stable\\model.ckpt-34702\n"
     ]
    }
   ],
   "source": [
    "pred_df = pd.DataFrame.from_records(list(pred_results))\n",
    "pred_probs = pred_df['probabilities']\n",
    "pred_df = pred_df.drop('probabilities', axis=1)\n",
    "pred_df.index.names=['ID']\n",
    "pred_df.columns = ['CLASS']\n",
    "pred_df.to_csv('preds.csv')"
   ]
  },
  {
   "cell_type": "code",
   "execution_count": 97,
   "metadata": {
    "collapsed": true
   },
   "outputs": [],
   "source": [
    "pred_probs_array = np.asarray(pred_probs.tolist())\n",
    "np.save('ans-uni', pred_probs_array.T)"
   ]
  },
  {
   "cell_type": "code",
   "execution_count": null,
   "metadata": {
    "collapsed": true
   },
   "outputs": [],
   "source": []
  }
 ],
 "metadata": {
  "kernelspec": {
   "display_name": "Python 3",
   "language": "python",
   "name": "python3"
  },
  "language_info": {
   "codemirror_mode": {
    "name": "ipython",
    "version": 3
   },
   "file_extension": ".py",
   "mimetype": "text/x-python",
   "name": "python",
   "nbconvert_exporter": "python",
   "pygments_lexer": "ipython3",
   "version": "3.6.3"
  }
 },
 "nbformat": 4,
 "nbformat_minor": 2
}
